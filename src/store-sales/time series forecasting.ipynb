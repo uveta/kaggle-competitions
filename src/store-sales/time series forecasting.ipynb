{
 "cells": [
  {
   "cell_type": "code",
   "execution_count": 3,
   "metadata": {},
   "outputs": [],
   "source": [
    "from pathlib import Path\n",
    "import pandas as pd\n",
    "from sklearn.linear_model import LinearRegression\n",
    "from statsmodels.tsa.deterministic import CalendarFourier, DeterministicProcess"
   ]
  },
  {
   "cell_type": "code",
   "execution_count": 2,
   "metadata": {},
   "outputs": [],
   "source": [
    "comp_dir = Path(\"datasets\")\n",
    "\n",
    "holidays_events = pd.read_csv(\n",
    "    comp_dir / \"holidays_events.csv\",\n",
    "    dtype={\n",
    "        \"type\": \"category\",\n",
    "        \"locale\": \"category\",\n",
    "        \"locale_name\": \"category\",\n",
    "        \"description\": \"category\",\n",
    "        \"transferred\": \"bool\",\n",
    "    },\n",
    "    parse_dates=[\"date\"],\n",
    "    infer_datetime_format=True,\n",
    ")\n",
    "holidays_events = holidays_events.set_index(\"date\").to_period(\"D\")\n",
    "\n",
    "store_sales = pd.read_csv(\n",
    "    comp_dir / \"train.csv.zip\",\n",
    "    usecols=[\"store_nbr\", \"family\", \"date\", \"sales\"],\n",
    "    dtype={\n",
    "        \"store_nbr\": \"category\",\n",
    "        \"family\": \"category\",\n",
    "        \"sales\": \"float32\",\n",
    "    },\n",
    "    parse_dates=[\"date\"],\n",
    "    infer_datetime_format=True,\n",
    "    compression=\"zip\",\n",
    ")\n",
    "store_sales[\"date\"] = store_sales.date.dt.to_period(\"D\")\n",
    "store_sales = store_sales.set_index([\"store_nbr\", \"family\", \"date\"]).sort_index()\n",
    "average_sales = store_sales.groupby(\"date\").mean().squeeze().loc[\"2017\"]\n"
   ]
  },
  {
   "cell_type": "code",
   "execution_count": 4,
   "metadata": {},
   "outputs": [],
   "source": [
    "y = store_sales.unstack([\"store_nbr\", \"family\"]).loc[\"2017\"]\n",
    "\n",
    "# Create training data\n",
    "fourier = CalendarFourier(freq=\"M\", order=3)\n",
    "dp = DeterministicProcess(\n",
    "    index=y.index,\n",
    "    constant=True,\n",
    "    order=2,\n",
    "    seasonal=True,\n",
    "    additional_terms=[fourier],\n",
    "    drop=True,\n",
    ")\n",
    "X = dp.in_sample()\n",
    "# X[\"NewYear\"] = X.index.dayofyear == 1\n",
    "model = LinearRegression(fit_intercept=False)\n",
    "model.fit(X, y)\n",
    "y_pred = pd.DataFrame(model.predict(X), index=X.index, columns=y.columns)\n"
   ]
  },
  {
   "cell_type": "code",
   "execution_count": 5,
   "metadata": {},
   "outputs": [],
   "source": [
    "df_test = pd.read_csv(\n",
    "    comp_dir / \"test.csv\",\n",
    "    dtype={\n",
    "        \"store_nbr\": \"category\",\n",
    "        \"family\": \"category\",\n",
    "        \"onpromotion\": \"uint32\",\n",
    "    },\n",
    "    parse_dates=[\"date\"],\n",
    "    infer_datetime_format=True,\n",
    ")\n",
    "df_test[\"date\"] = df_test.date.dt.to_period(\"D\")\n",
    "df_test = df_test.set_index([\"store_nbr\", \"family\", \"date\"]).sort_index()\n",
    "\n",
    "# Create features for test set\n",
    "X_test = dp.out_of_sample(steps=16)\n",
    "X_test.index.name = \"date\"\n",
    "# X_test[\"NewYear\"] = X_test.index.dayofyear == 1\n"
   ]
  },
  {
   "cell_type": "code",
   "execution_count": 6,
   "metadata": {},
   "outputs": [],
   "source": [
    "y_submit = pd.DataFrame(model.predict(X_test), index=X_test.index, columns=y.columns)\n",
    "y_submit = y_submit.stack([\"store_nbr\", \"family\"])\n",
    "y_submit = y_submit.join(df_test.id).reindex(columns=[\"id\", \"sales\"])\n",
    "y_submit.to_csv(comp_dir / \"submission.csv\", index=False)\n"
   ]
  }
 ],
 "metadata": {
  "kernelspec": {
   "display_name": "Python 3.9.4 64-bit",
   "language": "python",
   "name": "python3"
  },
  "language_info": {
   "codemirror_mode": {
    "name": "ipython",
    "version": 3
   },
   "file_extension": ".py",
   "mimetype": "text/x-python",
   "name": "python",
   "nbconvert_exporter": "python",
   "pygments_lexer": "ipython3",
   "version": "3.9.4"
  },
  "orig_nbformat": 4,
  "vscode": {
   "interpreter": {
    "hash": "4c9b872128f8f21f45a4b35551ce13a52d620d80017c09891120182b70d4e784"
   }
  }
 },
 "nbformat": 4,
 "nbformat_minor": 2
}
