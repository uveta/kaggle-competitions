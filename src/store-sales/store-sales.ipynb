{
 "cells": [
  {
   "cell_type": "code",
   "execution_count": 218,
   "metadata": {},
   "outputs": [],
   "source": [
    "import pandas as pd\n",
    "import numpy as np\n",
    "import matplotlib.pyplot as plt\n",
    "import seaborn as sns\n",
    "from datetime import datetime\n",
    "\n",
    "from sklearn.model_selection import train_test_split\n",
    "from sklearn.ensemble import RandomForestRegressor\n",
    "from sklearn.linear_model import LinearRegression\n",
    "from sklearn.preprocessing import LabelEncoder\n",
    "from sklearn.metrics import mean_squared_error\n",
    "from statsmodels.tsa.deterministic import CalendarFourier, DeterministicProcess\n"
   ]
  },
  {
   "cell_type": "code",
   "execution_count": 219,
   "metadata": {},
   "outputs": [],
   "source": [
    "train = pd.read_csv(\n",
    "    \"datasets/train.csv.zip\",\n",
    "    compression=\"zip\",\n",
    "    parse_dates=[\"date\"],\n",
    "    usecols=[\"store_nbr\", \"family\", \"date\", \"sales\"],\n",
    "    dtype={\"store_nbr\": \"category\", \"family\": \"category\", \"sales\": \"float32\"},\n",
    "    infer_datetime_format=True,\n",
    ")\n",
    "train.date = train.date.dt.to_period(\"D\")\n",
    "train = train.set_index([\"store_nbr\", \"family\", \"date\"]).sort_index()"
   ]
  },
  {
   "cell_type": "code",
   "execution_count": 220,
   "metadata": {},
   "outputs": [],
   "source": [
    "oil = pd.read_csv(\"datasets/oil.csv\", index_col=\"date\", parse_dates=[\"date\"])\n",
    "oil[\"price\"] = oil[\"dcoilwtico\"]\n",
    "oil.drop(\"dcoilwtico\", inplace=True, axis=\"columns\")\n",
    "oil.price.fillna(method=\"bfill\", inplace=True)\n"
   ]
  },
  {
   "cell_type": "code",
   "execution_count": 221,
   "metadata": {},
   "outputs": [],
   "source": [
    "y = train.unstack([\"store_nbr\", \"family\"])\n",
    "fourier = CalendarFourier(freq=\"M\", order=3)\n",
    "dp = DeterministicProcess(\n",
    "    index=y.index,\n",
    "    constant=True,\n",
    "    order=2,\n",
    "    seasonal=True,\n",
    "    additional_terms=[fourier],\n",
    "    drop=True,\n",
    ")"
   ]
  },
  {
   "cell_type": "code",
   "execution_count": 222,
   "metadata": {},
   "outputs": [],
   "source": [
    "X = dp.in_sample()\n",
    "# X.join(oil, on=\"date\", how=\"left\", rsuffix=\"oil\")\n",
    "X_train, X_val, y_train, y_val = train_test_split(X, y, test_size=0.2, shuffle=False)"
   ]
  },
  {
   "cell_type": "code",
   "execution_count": 223,
   "metadata": {},
   "outputs": [],
   "source": [
    "# start_date = datetime(2013, 1, 1)\n",
    "# train[\"time\"] = (train.date - start_date).dt.days\n",
    "# train[\"day_of_week\"] = train.date.dt.dayofweek\n",
    "# train[\"day_of_month\"] = train.date.dt.day\n",
    "# train[\"month\"] = train.date.dt.month\n",
    "# train[\"category\"] = encoder.transform(train.family)\n",
    "# train.drop([\"price\"], axis=\"columns\", inplace=True, errors=\"ignore\")\n",
    "# train = train.join(oil, on=\"date\", how=\"left\", rsuffix=\"oil\")\n",
    "# train.price.fillna(method=\"bfill\", inplace=True)\n"
   ]
  },
  {
   "cell_type": "code",
   "execution_count": 224,
   "metadata": {},
   "outputs": [],
   "source": [
    "# X = train.drop([\"sales\", \"date\", \"family\"], axis=\"columns\")\n",
    "# y = train.sales\n",
    "\n",
    "# X_train, X_val, y_train, y_val = train_test_split(X, y, test_size=0.2, shuffle=False)"
   ]
  },
  {
   "cell_type": "code",
   "execution_count": 225,
   "metadata": {},
   "outputs": [
    {
     "data": {
      "text/plain": [
       "RandomForestRegressor(n_jobs=-1)"
      ]
     },
     "execution_count": 225,
     "metadata": {},
     "output_type": "execute_result"
    }
   ],
   "source": [
    "model = RandomForestRegressor(n_estimators=100, n_jobs=-1)\n",
    "# model = LinearRegression(normalize=True, n_jobs=-1)\n",
    "model.fit(X_train, y_train)\n"
   ]
  },
  {
   "cell_type": "code",
   "execution_count": 226,
   "metadata": {},
   "outputs": [
    {
     "name": "stdout",
     "output_type": "stream",
     "text": [
      "Error is 276385.66750825004, which is worse\n"
     ]
    }
   ],
   "source": [
    "y_pred = model.predict(X_val)\n",
    "rmse = mean_squared_error(y_val, y_pred)\n",
    "best = 202496.51205666756\n",
    "print(f\"Error is {rmse}, which is {'worse' if best<rmse else 'better'}\")\n"
   ]
  },
  {
   "cell_type": "code",
   "execution_count": 227,
   "metadata": {},
   "outputs": [],
   "source": [
    "# test[\"time\"] = (test.date - start_date).dt.days\n",
    "# test[\"category\"] = encoder.transform(test.family)\n",
    "# test[\"day_of_week\"] = test.date.dt.dayofweek\n",
    "# test[\"day_of_month\"] = test.date.dt.day\n",
    "# test[\"month\"] = test.date.dt.month\n",
    "# test.drop([\"price\"], axis=\"columns\", inplace=True, errors=\"ignore\")\n",
    "# test = test.join(oil, on=\"date\", how=\"left\", rsuffix=\"oil\")\n",
    "# test.price.fillna(method=\"bfill\", inplace=True)\n",
    "# X_test = test.drop([\"date\", \"family\"], axis=\"columns\")\n",
    "model.fit(X, y)\n",
    "X_test = dp.out_of_sample(16)\n",
    "# X_test.join(oil, how=\"left\", rsuffix=\"oil\")\n",
    "X_test.index.name = \"date\""
   ]
  },
  {
   "cell_type": "code",
   "execution_count": 228,
   "metadata": {},
   "outputs": [],
   "source": [
    "test = pd.read_csv(\n",
    "    \"datasets/test.csv\",\n",
    "    parse_dates=[\"date\"],\n",
    "    dtype={\n",
    "        \"store_nbr\": \"category\",\n",
    "        \"family\": \"category\",\n",
    "        \"onpromotion\": \"uint32\",\n",
    "    },\n",
    "    infer_datetime_format=True,\n",
    ")\n",
    "test.date = test.date.dt.to_period(\"D\")\n",
    "test = test.set_index([\"store_nbr\", \"family\", \"date\"]).sort_index()"
   ]
  },
  {
   "cell_type": "code",
   "execution_count": 229,
   "metadata": {},
   "outputs": [],
   "source": [
    "y_test = model.predict(X_test)\n",
    "submission = pd.DataFrame(y_test, index=X_test.index, columns=y.columns)\n",
    "submission = submission.stack([\"store_nbr\", \"family\"])\n",
    "submission = submission.join(test.id).reindex(columns=[\"id\", \"sales\"])\n",
    "submission.to_csv(\"datasets/submission.csv\", index=False)\n"
   ]
  }
 ],
 "metadata": {
  "kernelspec": {
   "display_name": "Python 3.9.4 64-bit",
   "language": "python",
   "name": "python3"
  },
  "language_info": {
   "codemirror_mode": {
    "name": "ipython",
    "version": 3
   },
   "file_extension": ".py",
   "mimetype": "text/x-python",
   "name": "python",
   "nbconvert_exporter": "python",
   "pygments_lexer": "ipython3",
   "version": "3.9.4"
  },
  "orig_nbformat": 4,
  "vscode": {
   "interpreter": {
    "hash": "4c9b872128f8f21f45a4b35551ce13a52d620d80017c09891120182b70d4e784"
   }
  }
 },
 "nbformat": 4,
 "nbformat_minor": 2
}
