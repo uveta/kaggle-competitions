{
 "cells": [
  {
   "cell_type": "code",
   "execution_count": 1,
   "metadata": {},
   "outputs": [],
   "source": [
    "import pandas as pd"
   ]
  },
  {
   "cell_type": "code",
   "execution_count": 2,
   "metadata": {},
   "outputs": [],
   "source": [
    "train = pd.read_csv(\"datasets/train.csv.zip\", compression=\"zip\", header=0)\n",
    "test = pd.read_csv(\"datasets/test.csv.zip\", compression=\"zip\", header=0)"
   ]
  },
  {
   "cell_type": "code",
   "execution_count": 3,
   "metadata": {},
   "outputs": [],
   "source": [
    "images = train.values[:,1:].reshape(-1, 28, 28)[6]"
   ]
  },
  {
   "cell_type": "code",
   "execution_count": 4,
   "metadata": {},
   "outputs": [
    {
     "data": {
      "text/plain": [
       "'2.8.0'"
      ]
     },
     "execution_count": 4,
     "metadata": {},
     "output_type": "execute_result"
    }
   ],
   "source": [
    "import tensorflow as tf\n",
    "tf.__version__"
   ]
  },
  {
   "cell_type": "code",
   "execution_count": 5,
   "metadata": {},
   "outputs": [],
   "source": [
    "inputs = tf.keras.Input(shape = (28, 28, 1))\n",
    "\n",
    "C1 = tf.keras.layers.RandomContrast(0.2)(inputs)\n",
    "\n",
    "M_1 = tf.keras.layers.Conv2D(16, 3, activation='relu', input_shape = (28, 28, 1), padding=\"same\")(C1)\n",
    "M_1 = tf.keras.layers.MaxPool2D(pool_size=(3, 3), strides=1, padding=\"same\")(M_1)\n",
    "\n",
    "M_2 = tf.keras.layers.Conv2D(8, 3, activation='relu', padding=\"same\")(M_1)\n",
    "M_2 = tf.keras.layers.MaxPool2D(pool_size=(3, 3), strides=2, padding=\"same\")(M_2)\n",
    "\n",
    "M_3 = tf.keras.layers.Conv2D(4, 3, activation='relu', padding=\"same\")(M_2)\n",
    "M_3 = tf.keras.layers.MaxPool2D(pool_size=(3, 3), strides=2, padding=\"valid\")(M_3)\n",
    "\n",
    "M = tf.keras.layers.Flatten()(M_3)\n",
    "D1 = tf.keras.layers.Dense(16, activation=\"relu\")(M)\n",
    "D2 = tf.keras.layers.Dense(16, activation=\"relu\")(D1)  \n",
    "\n",
    "outputs = tf.keras.layers.Dense(10, activation=\"softmax\", name=\"output\")(D2)\n",
    "\n",
    "model = tf.keras.Model(inputs=inputs, outputs=outputs, name=\"mnist_model\")\n",
    "\n",
    "model.compile(\n",
    "    loss='categorical_crossentropy', optimizer='adam', metrics=['accuracy']\n",
    ")"
   ]
  },
  {
   "cell_type": "code",
   "execution_count": 6,
   "metadata": {},
   "outputs": [],
   "source": [
    "for i in range(10):\n",
    "    train[f'label_{i}'] = (train['label'] == i) * 1.0"
   ]
  },
  {
   "cell_type": "code",
   "execution_count": 7,
   "metadata": {},
   "outputs": [],
   "source": [
    "X = train[[c for c in train.columns if 'pixel' in c]].values.reshape(len(train), 28, 28, 1)\n",
    "y = train[[c for c in train.columns if 'label_' in c]]"
   ]
  },
  {
   "cell_type": "code",
   "execution_count": 8,
   "metadata": {},
   "outputs": [
    {
     "name": "stdout",
     "output_type": "stream",
     "text": [
      "Epoch 1/20\n",
      "1050/1050 [==============================] - 26s 24ms/step - loss: 1.1043 - accuracy: 0.6745 - val_loss: 0.3836 - val_accuracy: 0.8995\n",
      "Epoch 2/20\n",
      "1050/1050 [==============================] - 26s 25ms/step - loss: 0.2886 - accuracy: 0.9188 - val_loss: 0.2114 - val_accuracy: 0.9414\n",
      "Epoch 3/20\n",
      "1050/1050 [==============================] - 25s 24ms/step - loss: 0.2033 - accuracy: 0.9413 - val_loss: 0.1733 - val_accuracy: 0.9481\n",
      "Epoch 4/20\n",
      "1050/1050 [==============================] - 26s 24ms/step - loss: 0.1578 - accuracy: 0.9536 - val_loss: 0.1325 - val_accuracy: 0.9625\n",
      "Epoch 5/20\n",
      "1050/1050 [==============================] - 27s 26ms/step - loss: 0.1276 - accuracy: 0.9621 - val_loss: 0.1405 - val_accuracy: 0.9590\n",
      "Epoch 6/20\n",
      "1050/1050 [==============================] - 25s 23ms/step - loss: 0.1095 - accuracy: 0.9680 - val_loss: 0.1051 - val_accuracy: 0.9682\n",
      "Epoch 7/20\n",
      "1050/1050 [==============================] - 24s 22ms/step - loss: 0.0976 - accuracy: 0.9708 - val_loss: 0.1100 - val_accuracy: 0.9688\n",
      "Epoch 8/20\n",
      "1050/1050 [==============================] - 24s 23ms/step - loss: 0.0909 - accuracy: 0.9720 - val_loss: 0.1011 - val_accuracy: 0.9699\n",
      "Epoch 9/20\n",
      "1050/1050 [==============================] - 25s 24ms/step - loss: 0.0864 - accuracy: 0.9741 - val_loss: 0.0964 - val_accuracy: 0.9712\n",
      "Epoch 10/20\n",
      "1050/1050 [==============================] - 25s 24ms/step - loss: 0.0791 - accuracy: 0.9758 - val_loss: 0.1581 - val_accuracy: 0.9517\n",
      "Epoch 11/20\n",
      "1050/1050 [==============================] - 27s 25ms/step - loss: 0.0752 - accuracy: 0.9773 - val_loss: 0.0908 - val_accuracy: 0.9727\n",
      "Epoch 12/20\n",
      "1050/1050 [==============================] - 28s 27ms/step - loss: 0.0717 - accuracy: 0.9782 - val_loss: 0.0787 - val_accuracy: 0.9764\n",
      "Epoch 13/20\n",
      "1050/1050 [==============================] - 26s 24ms/step - loss: 0.0691 - accuracy: 0.9790 - val_loss: 0.0717 - val_accuracy: 0.9786\n",
      "Epoch 14/20\n",
      "1050/1050 [==============================] - 25s 24ms/step - loss: 0.0662 - accuracy: 0.9788 - val_loss: 0.0823 - val_accuracy: 0.9744\n",
      "Epoch 15/20\n",
      "1050/1050 [==============================] - 25s 24ms/step - loss: 0.0641 - accuracy: 0.9804 - val_loss: 0.0897 - val_accuracy: 0.9733\n",
      "Epoch 16/20\n",
      "1050/1050 [==============================] - 24s 23ms/step - loss: 0.0633 - accuracy: 0.9805 - val_loss: 0.0912 - val_accuracy: 0.9752\n",
      "Epoch 17/20\n",
      "1050/1050 [==============================] - 25s 24ms/step - loss: 0.0592 - accuracy: 0.9815 - val_loss: 0.0791 - val_accuracy: 0.9774\n",
      "Epoch 18/20\n",
      "1050/1050 [==============================] - 24s 23ms/step - loss: 0.0598 - accuracy: 0.9817 - val_loss: 0.0929 - val_accuracy: 0.9724\n",
      "Epoch 19/20\n",
      "1050/1050 [==============================] - 25s 24ms/step - loss: 0.0556 - accuracy: 0.9825 - val_loss: 0.0693 - val_accuracy: 0.9786\n",
      "Epoch 20/20\n",
      "1050/1050 [==============================] - 24s 23ms/step - loss: 0.0509 - accuracy: 0.9841 - val_loss: 0.0694 - val_accuracy: 0.9783\n"
     ]
    },
    {
     "data": {
      "text/plain": [
       "<keras.callbacks.History at 0x177f19ec2b0>"
      ]
     },
     "execution_count": 8,
     "metadata": {},
     "output_type": "execute_result"
    }
   ],
   "source": [
    "model.fit(X, y, epochs = 20, validation_split = 0.2)"
   ]
  },
  {
   "cell_type": "code",
   "execution_count": 9,
   "metadata": {},
   "outputs": [
    {
     "name": "stdout",
     "output_type": "stream",
     "text": [
      "Model: \"mnist_model\"\n",
      "_________________________________________________________________\n",
      " Layer (type)                Output Shape              Param #   \n",
      "=================================================================\n",
      " input_1 (InputLayer)        [(None, 28, 28, 1)]       0         \n",
      "                                                                 \n",
      " random_contrast (RandomCont  (None, 28, 28, 1)        0         \n",
      " rast)                                                           \n",
      "                                                                 \n",
      " conv2d (Conv2D)             (None, 28, 28, 16)        160       \n",
      "                                                                 \n",
      " max_pooling2d (MaxPooling2D  (None, 28, 28, 16)       0         \n",
      " )                                                               \n",
      "                                                                 \n",
      " conv2d_1 (Conv2D)           (None, 28, 28, 8)         1160      \n",
      "                                                                 \n",
      " max_pooling2d_1 (MaxPooling  (None, 14, 14, 8)        0         \n",
      " 2D)                                                             \n",
      "                                                                 \n",
      " conv2d_2 (Conv2D)           (None, 14, 14, 4)         292       \n",
      "                                                                 \n",
      " max_pooling2d_2 (MaxPooling  (None, 6, 6, 4)          0         \n",
      " 2D)                                                             \n",
      "                                                                 \n",
      " flatten (Flatten)           (None, 144)               0         \n",
      "                                                                 \n",
      " dense (Dense)               (None, 16)                2320      \n",
      "                                                                 \n",
      " dense_1 (Dense)             (None, 16)                272       \n",
      "                                                                 \n",
      " output (Dense)              (None, 10)                170       \n",
      "                                                                 \n",
      "=================================================================\n",
      "Total params: 4,374\n",
      "Trainable params: 4,374\n",
      "Non-trainable params: 0\n",
      "_________________________________________________________________\n"
     ]
    }
   ],
   "source": [
    "model.summary()"
   ]
  },
  {
   "cell_type": "code",
   "execution_count": 11,
   "metadata": {},
   "outputs": [],
   "source": [
    "test['Label'] = model.predict(\n",
    "    test[[c for c in test.columns if 'pixel' in c]].values.reshape(len(test), 28, 28, 1)\n",
    ").argmax(axis = 1)"
   ]
  },
  {
   "cell_type": "code",
   "execution_count": 13,
   "metadata": {},
   "outputs": [],
   "source": [
    "test['ImageId'] = list(range(1, len(test) + 1))\n",
    "test.to_csv('datasets/submission.csv', index=False, columns = ['ImageId', 'Label'])"
   ]
  }
 ],
 "metadata": {
  "interpreter": {
   "hash": "d06ee931ab140b5c25de85b8d5dd49f04a6c55425a1ce9a3c19ed9be6600fe63"
  },
  "kernelspec": {
   "display_name": "Python 3.9.4 64-bit",
   "language": "python",
   "name": "python3"
  },
  "language_info": {
   "codemirror_mode": {
    "name": "ipython",
    "version": 3
   },
   "file_extension": ".py",
   "mimetype": "text/x-python",
   "name": "python",
   "nbconvert_exporter": "python",
   "pygments_lexer": "ipython3",
   "version": "3.9.4"
  },
  "orig_nbformat": 4
 },
 "nbformat": 4,
 "nbformat_minor": 2
}
