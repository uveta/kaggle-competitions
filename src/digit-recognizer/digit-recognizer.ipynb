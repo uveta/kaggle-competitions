{
 "cells": [
  {
   "cell_type": "code",
   "execution_count": 18,
   "metadata": {},
   "outputs": [],
   "source": [
    "import pandas as pd\n",
    "from sklearn.model_selection import train_test_split, GridSearchCV\n",
    "from sklearn.preprocessing import scale\n",
    "from sklearn.svm import SVC\n",
    "from sklearn.ensemble import RandomForestClassifier\n",
    "from sklearn.metrics import accuracy_score, precision_score, recall_score\n",
    "import matplotlib.pyplot as plt\n",
    "import seaborn as sns"
   ]
  },
  {
   "cell_type": "code",
   "execution_count": 53,
   "metadata": {},
   "outputs": [],
   "source": [
    "train_csv = pd.read_csv(\"datasets/train.csv.zip\", compression=\"zip\", header=0)"
   ]
  },
  {
   "cell_type": "code",
   "execution_count": 57,
   "metadata": {},
   "outputs": [],
   "source": [
    "train_count = None\n",
    "if train_count != None:\n",
    "    train = train_csv.sample(n=train_count)\n",
    "else:\n",
    "    train = train_csv\n",
    "y = train[\"label\"]\n",
    "train = train.drop(\"label\", axis=\"columns\", errors=\"ignore\")\n",
    "X_train, X_test, y_train, y_test = train_test_split(train, y, test_size=0.2)\n",
    "X_train = scale(X_train)\n",
    "X_test = scale(X_test)\n"
   ]
  },
  {
   "cell_type": "code",
   "execution_count": null,
   "metadata": {},
   "outputs": [],
   "source": [
    "classifier = RandomForestClassifier()\n",
    "param_grid = {\"n_estimators\": [400]}\n",
    "grid = GridSearchCV(\n",
    "    estimator=classifier,\n",
    "    param_grid=param_grid,\n",
    "    cv=20,\n",
    "    scoring=\"accuracy\",\n",
    "    n_jobs=-1,\n",
    ")\n",
    "grid.fit(X_train, y_train)\n"
   ]
  },
  {
   "cell_type": "code",
   "execution_count": 49,
   "metadata": {},
   "outputs": [
    {
     "data": {
      "image/png": "[encoded data removed]",
      "text/plain": [
       "<Figure size 432x288 with 1 Axes>"
      ]
     },
     "metadata": {
      "needs_background": "light"
     },
     "output_type": "display_data"
    },
    {
     "data": {
      "text/html": [
       "<div>\n",
       "<style scoped>\n",
       "    .dataframe tbody tr th:only-of-type {\n",
       "        vertical-align: middle;\n",
       "    }\n",
       "\n",
       "    .dataframe tbody tr th {\n",
       "        vertical-align: top;\n",
       "    }\n",
       "\n",
       "    .dataframe thead th {\n",
       "        text-align: right;\n",
       "    }\n",
       "</style>\n",
       "<table border=\"1\" class=\"dataframe\">\n",
       "  <thead>\n",
       "    <tr style=\"text-align: right;\">\n",
       "      <th></th>\n",
       "      <th>params</th>\n",
       "      <th>rank_test_score</th>\n",
       "      <th>mean_test_score</th>\n",
       "      <th>std_test_score</th>\n",
       "    </tr>\n",
       "    <tr>\n",
       "      <th>n_estimators</th>\n",
       "      <th></th>\n",
       "      <th></th>\n",
       "      <th></th>\n",
       "      <th></th>\n",
       "    </tr>\n",
       "  </thead>\n",
       "  <tbody>\n",
       "    <tr>\n",
       "      <th>200</th>\n",
       "      <td>{'n_estimators': 200}</td>\n",
       "      <td>8</td>\n",
       "      <td>0.955813</td>\n",
       "      <td>0.009506</td>\n",
       "    </tr>\n",
       "    <tr>\n",
       "      <th>400</th>\n",
       "      <td>{'n_estimators': 400}</td>\n",
       "      <td>7</td>\n",
       "      <td>0.956875</td>\n",
       "      <td>0.007629</td>\n",
       "    </tr>\n",
       "    <tr>\n",
       "      <th>800</th>\n",
       "      <td>{'n_estimators': 800}</td>\n",
       "      <td>5</td>\n",
       "      <td>0.957313</td>\n",
       "      <td>0.009085</td>\n",
       "    </tr>\n",
       "    <tr>\n",
       "      <th>1000</th>\n",
       "      <td>{'n_estimators': 1000}</td>\n",
       "      <td>6</td>\n",
       "      <td>0.957250</td>\n",
       "      <td>0.007842</td>\n",
       "    </tr>\n",
       "    <tr>\n",
       "      <th>1100</th>\n",
       "      <td>{'n_estimators': 1100}</td>\n",
       "      <td>2</td>\n",
       "      <td>0.957812</td>\n",
       "      <td>0.009210</td>\n",
       "    </tr>\n",
       "    <tr>\n",
       "      <th>1200</th>\n",
       "      <td>{'n_estimators': 1200}</td>\n",
       "      <td>2</td>\n",
       "      <td>0.957812</td>\n",
       "      <td>0.008952</td>\n",
       "    </tr>\n",
       "    <tr>\n",
       "      <th>1400</th>\n",
       "      <td>{'n_estimators': 1400}</td>\n",
       "      <td>4</td>\n",
       "      <td>0.957563</td>\n",
       "      <td>0.008134</td>\n",
       "    </tr>\n",
       "    <tr>\n",
       "      <th>1800</th>\n",
       "      <td>{'n_estimators': 1800}</td>\n",
       "      <td>1</td>\n",
       "      <td>0.957937</td>\n",
       "      <td>0.008885</td>\n",
       "    </tr>\n",
       "  </tbody>\n",
       "</table>\n",
       "</div>"
      ],
      "text/plain": [
       "                              params  rank_test_score  mean_test_score  \\\n",
       "n_estimators                                                             \n",
       "200            {'n_estimators': 200}                8         0.955813   \n",
       "400            {'n_estimators': 400}                7         0.956875   \n",
       "800            {'n_estimators': 800}                5         0.957313   \n",
       "1000          {'n_estimators': 1000}                6         0.957250   \n",
       "1100          {'n_estimators': 1100}                2         0.957812   \n",
       "1200          {'n_estimators': 1200}                2         0.957812   \n",
       "1400          {'n_estimators': 1400}                4         0.957563   \n",
       "1800          {'n_estimators': 1800}                1         0.957937   \n",
       "\n",
       "              std_test_score  \n",
       "n_estimators                  \n",
       "200                 0.009506  \n",
       "400                 0.007629  \n",
       "800                 0.009085  \n",
       "1000                0.007842  \n",
       "1100                0.009210  \n",
       "1200                0.008952  \n",
       "1400                0.008134  \n",
       "1800                0.008885  "
      ]
     },
     "execution_count": 49,
     "metadata": {},
     "output_type": "execute_result"
    }
   ],
   "source": [
    "results_df = pd.DataFrame(grid.cv_results_)\n",
    "# results_df = results_df.sort_values(by=[\"rank_test_score\"])\n",
    "results_df = results_df.set_index(\n",
    "    results_df[\"params\"].apply(lambda x: \"_\".join(str(val) for val in x.values()))\n",
    ").rename_axis(\"n_estimators\")\n",
    "\n",
    "\n",
    "plt.xlabel(\"n_estimators\")\n",
    "plt.ylabel(\"mean_test_score\")\n",
    "plt.plot(results_df.index, results_df[\"mean_test_score\"])\n",
    "plt.show()\n",
    "results_df[[\"params\", \"rank_test_score\", \"mean_test_score\", \"std_test_score\"]]"
   ]
  },
  {
   "cell_type": "code",
   "execution_count": 61,
   "metadata": {},
   "outputs": [
    {
     "name": "stdout",
     "output_type": "stream",
     "text": [
      "accuracy_score :  0.9569047619047619\n",
      "accuracy_count :  8038  of  8400\n"
     ]
    }
   ],
   "source": [
    "# classifier = SVC()\n",
    "classifier = RandomForestClassifier(n_estimators=500, random_state=1234)\n",
    "classifier.fit(X_train, y_train)\n",
    "y_pred = classifier.predict(X_test)\n",
    "\n",
    "acc = accuracy_score(y_test, y_pred)\n",
    "# prec = precision_score(y_test, y_pred, average=None)\n",
    "# recall = recall_score(y_test, y_pred, average=None)\n",
    "num_acc = accuracy_score(y_test, y_pred, normalize=False)\n",
    "\n",
    "print(\"accuracy_score : \", acc)\n",
    "# print(\"precision_score : \", prec)\n",
    "# print(\"recall_score : \", recall)\n",
    "print(\"accuracy_count : \", num_acc, \" of \", len(y_test))\n",
    "# take first 10000 samples from train.csv\n",
    "# train_test_split\n",
    "# sklearn.preprocess.scale train and test features\n",
    "# sklearn.svm.SVC\n",
    "# sklearn.svm.SVC(C=7, gamma=0.009)?\n",
    "# GridSearch\n",
    "# RandomForestClassifier\n"
   ]
  },
  {
   "cell_type": "code",
   "execution_count": 64,
   "metadata": {},
   "outputs": [],
   "source": [
    "test = pd.read_csv(\"datasets/test.csv.zip\", compression=\"zip\", header=0)\n",
    "test = scale(test)\n",
    "predictions = classifier.predict(test)"
   ]
  },
  {
   "cell_type": "code",
   "execution_count": 65,
   "metadata": {},
   "outputs": [],
   "source": [
    "submission = pd.DataFrame({\n",
    "    \"ImageId\": range(1, len(predictions) + 1),\n",
    "    \"Label\": predictions\n",
    "})\n",
    "submission.to_csv(\"datasets/submission.csv\", index=False)"
   ]
  }
 ],
 "metadata": {
  "interpreter": {
   "hash": "d06ee931ab140b5c25de85b8d5dd49f04a6c55425a1ce9a3c19ed9be6600fe63"
  },
  "kernelspec": {
   "display_name": "Python 3.9.4 64-bit",
   "language": "python",
   "name": "python3"
  },
  "language_info": {
   "codemirror_mode": {
    "name": "ipython",
    "version": 3
   },
   "file_extension": ".py",
   "mimetype": "text/x-python",
   "name": "python",
   "nbconvert_exporter": "python",
   "pygments_lexer": "ipython3",
   "version": "3.9.4"
  },
  "orig_nbformat": 4
 },
 "nbformat": 4,
 "nbformat_minor": 2
}
