{
 "cells": [
  {
   "cell_type": "code",
   "execution_count": 18,
   "metadata": {},
   "outputs": [],
   "source": [
    "import pandas as pd\n",
    "from sklearn.model_selection import train_test_split, GridSearchCV\n",
    "from sklearn.preprocessing import scale\n",
    "from sklearn.svm import SVC\n",
    "from sklearn.ensemble import RandomForestClassifier\n",
    "from sklearn.metrics import accuracy_score, precision_score, recall_score\n",
    "import matplotlib.pyplot as plt\n",
    "import seaborn as sns"
   ]
  },
  {
   "cell_type": "code",
   "execution_count": 53,
   "metadata": {},
   "outputs": [],
   "source": [
    "train_csv = pd.read_csv(\"datasets/train.csv.zip\", compression=\"zip\", header=0)"
   ]
  },
  {
   "cell_type": "code",
   "execution_count": 106,
   "metadata": {},
   "outputs": [],
   "source": [
    "train_count = None\n",
    "if train_count != None:\n",
    "    train = train_csv.sample(n=train_count)\n",
    "else:\n",
    "    train = train_csv\n",
    "y = train[\"label\"]\n",
    "train = train.drop(\"label\", axis=\"columns\", errors=\"ignore\")\n",
    "X_train, X_test, y_train, y_test = train_test_split(train, y, test_size=0.2)\n",
    "X_train = scale(X_train)\n",
    "X_test = scale(X_test)\n"
   ]
  },
  {
   "cell_type": "code",
   "execution_count": 101,
   "metadata": {},
   "outputs": [
    {
     "data": {
      "text/plain": [
       "GridSearchCV(cv=20, estimator=SVC(kernel='poly'), n_jobs=-1,\n",
       "             param_grid={'C': [8, 10, 11, 12, 14, 18, 20, 21, 22, 24, 28, 30]},\n",
       "             scoring='accuracy')"
      ]
     },
     "execution_count": 101,
     "metadata": {},
     "output_type": "execute_result"
    }
   ],
   "source": [
    "# classifier = RandomForestClassifier()\n",
    "classifier = SVC(kernel=\"poly\", gamma=\"scale\")\n",
    "param_grid = {\n",
    "    \"C\": [8, 10, 11, 12, 14, 18, 20, 21, 22, 24, 28, 30],\n",
    "    # \"kernel\": [\"linear\", \"poly\", \"rbf\", \"sigmoid\"],\n",
    "    # \"gamma\": [\"scale\", \"auto\"],\n",
    "}\n",
    "# param_grid = {\"n_estimators\": [400]}\n",
    "cross_validations = 20\n",
    "grid = GridSearchCV(\n",
    "    estimator=classifier,\n",
    "    param_grid=param_grid,\n",
    "    cv=cross_validations,\n",
    "    scoring=\"accuracy\",\n",
    "    n_jobs=-1,\n",
    ")\n",
    "grid.fit(X_train, y_train)\n"
   ]
  },
  {
   "cell_type": "code",
   "execution_count": 102,
   "metadata": {},
   "outputs": [
    {
     "data": {
      "image/png": "[encoded data removed]",
      "text/plain": [
       "<Figure size 864x576 with 1 Axes>"
      ]
     },
     "metadata": {
      "needs_background": "light"
     },
     "output_type": "display_data"
    },
    {
     "data": {
      "text/html": [
       "<div>\n",
       "<style scoped>\n",
       "    .dataframe tbody tr th:only-of-type {\n",
       "        vertical-align: middle;\n",
       "    }\n",
       "\n",
       "    .dataframe tbody tr th {\n",
       "        vertical-align: top;\n",
       "    }\n",
       "\n",
       "    .dataframe thead th {\n",
       "        text-align: right;\n",
       "    }\n",
       "</style>\n",
       "<table border=\"1\" class=\"dataframe\">\n",
       "  <thead>\n",
       "    <tr style=\"text-align: right;\">\n",
       "      <th></th>\n",
       "      <th>params</th>\n",
       "      <th>rank_test_score</th>\n",
       "      <th>mean_test_score</th>\n",
       "      <th>std_test_score</th>\n",
       "    </tr>\n",
       "    <tr>\n",
       "      <th>C</th>\n",
       "      <th></th>\n",
       "      <th></th>\n",
       "      <th></th>\n",
       "      <th></th>\n",
       "    </tr>\n",
       "  </thead>\n",
       "  <tbody>\n",
       "    <tr>\n",
       "      <th>8</th>\n",
       "      <td>{'C': 8}</td>\n",
       "      <td>12</td>\n",
       "      <td>0.80000</td>\n",
       "      <td>0.061237</td>\n",
       "    </tr>\n",
       "    <tr>\n",
       "      <th>10</th>\n",
       "      <td>{'C': 10}</td>\n",
       "      <td>11</td>\n",
       "      <td>0.81000</td>\n",
       "      <td>0.057228</td>\n",
       "    </tr>\n",
       "    <tr>\n",
       "      <th>11</th>\n",
       "      <td>{'C': 11}</td>\n",
       "      <td>10</td>\n",
       "      <td>0.82000</td>\n",
       "      <td>0.049117</td>\n",
       "    </tr>\n",
       "    <tr>\n",
       "      <th>12</th>\n",
       "      <td>{'C': 12}</td>\n",
       "      <td>9</td>\n",
       "      <td>0.82250</td>\n",
       "      <td>0.045346</td>\n",
       "    </tr>\n",
       "    <tr>\n",
       "      <th>14</th>\n",
       "      <td>{'C': 14}</td>\n",
       "      <td>8</td>\n",
       "      <td>0.83375</td>\n",
       "      <td>0.041288</td>\n",
       "    </tr>\n",
       "    <tr>\n",
       "      <th>18</th>\n",
       "      <td>{'C': 18}</td>\n",
       "      <td>7</td>\n",
       "      <td>0.83750</td>\n",
       "      <td>0.040697</td>\n",
       "    </tr>\n",
       "    <tr>\n",
       "      <th>20</th>\n",
       "      <td>{'C': 20}</td>\n",
       "      <td>3</td>\n",
       "      <td>0.83875</td>\n",
       "      <td>0.038304</td>\n",
       "    </tr>\n",
       "    <tr>\n",
       "      <th>21</th>\n",
       "      <td>{'C': 21}</td>\n",
       "      <td>3</td>\n",
       "      <td>0.83875</td>\n",
       "      <td>0.038304</td>\n",
       "    </tr>\n",
       "    <tr>\n",
       "      <th>22</th>\n",
       "      <td>{'C': 22}</td>\n",
       "      <td>3</td>\n",
       "      <td>0.83875</td>\n",
       "      <td>0.038304</td>\n",
       "    </tr>\n",
       "    <tr>\n",
       "      <th>24</th>\n",
       "      <td>{'C': 24}</td>\n",
       "      <td>3</td>\n",
       "      <td>0.83875</td>\n",
       "      <td>0.038304</td>\n",
       "    </tr>\n",
       "    <tr>\n",
       "      <th>28</th>\n",
       "      <td>{'C': 28}</td>\n",
       "      <td>1</td>\n",
       "      <td>0.84000</td>\n",
       "      <td>0.037417</td>\n",
       "    </tr>\n",
       "    <tr>\n",
       "      <th>30</th>\n",
       "      <td>{'C': 30}</td>\n",
       "      <td>1</td>\n",
       "      <td>0.84000</td>\n",
       "      <td>0.037417</td>\n",
       "    </tr>\n",
       "  </tbody>\n",
       "</table>\n",
       "</div>"
      ],
      "text/plain": [
       "       params  rank_test_score  mean_test_score  std_test_score\n",
       "C                                                              \n",
       "8    {'C': 8}               12          0.80000        0.061237\n",
       "10  {'C': 10}               11          0.81000        0.057228\n",
       "11  {'C': 11}               10          0.82000        0.049117\n",
       "12  {'C': 12}                9          0.82250        0.045346\n",
       "14  {'C': 14}                8          0.83375        0.041288\n",
       "18  {'C': 18}                7          0.83750        0.040697\n",
       "20  {'C': 20}                3          0.83875        0.038304\n",
       "21  {'C': 21}                3          0.83875        0.038304\n",
       "22  {'C': 22}                3          0.83875        0.038304\n",
       "24  {'C': 24}                3          0.83875        0.038304\n",
       "28  {'C': 28}                1          0.84000        0.037417\n",
       "30  {'C': 30}                1          0.84000        0.037417"
      ]
     },
     "execution_count": 102,
     "metadata": {},
     "output_type": "execute_result"
    }
   ],
   "source": [
    "results_df = pd.DataFrame(grid.cv_results_)\n",
    "#parameter_name = \"n_estimators\"\n",
    "parameter_name = \"C\"\n",
    "# results_df = results_df.sort_values(by=[\"rank_test_score\"])\n",
    "results_df = results_df.set_index(\n",
    "    results_df[\"params\"].apply(lambda x: \"_\".join(str(val) for val in x.values()))\n",
    ").rename_axis(parameter_name)\n",
    "\n",
    "plt.figure(figsize=(12,8))\n",
    "plt.xlabel(parameter_name)\n",
    "plt.ylabel(\"mean_test_score\")\n",
    "plt.plot(results_df.index, results_df[\"mean_test_score\"])\n",
    "plt.show()\n",
    "results_df[[\"params\", \"rank_test_score\", \"mean_test_score\", \"std_test_score\"]]"
   ]
  },
  {
   "cell_type": "code",
   "execution_count": 107,
   "metadata": {},
   "outputs": [
    {
     "name": "stdout",
     "output_type": "stream",
     "text": [
      "accuracy_score :  0.9739285714285715\n",
      "accuracy_count :  8181  of  8400\n"
     ]
    }
   ],
   "source": [
    "classifier = SVC(C=20, gamma=\"scale\", kernel=\"poly\")\n",
    "# classifier = RandomForestClassifier(n_estimators=500, random_state=1234)\n",
    "classifier.fit(X_train, y_train)\n",
    "y_pred = classifier.predict(X_test)\n",
    "\n",
    "acc = accuracy_score(y_test, y_pred)\n",
    "# prec = precision_score(y_test, y_pred, average=None)\n",
    "# recall = recall_score(y_test, y_pred, average=None)\n",
    "num_acc = accuracy_score(y_test, y_pred, normalize=False)\n",
    "\n",
    "print(\"accuracy_score : \", acc)\n",
    "# print(\"precision_score : \", prec)\n",
    "# print(\"recall_score : \", recall)\n",
    "print(\"accuracy_count : \", num_acc, \" of \", len(y_test))\n",
    "# take first 10000 samples from train.csv\n",
    "# train_test_split\n",
    "# sklearn.preprocess.scale train and test features\n",
    "# sklearn.svm.SVC\n",
    "# sklearn.svm.SVC(C=7, gamma=0.009)?\n",
    "# GridSearch\n",
    "# RandomForestClassifier\n"
   ]
  },
  {
   "cell_type": "code",
   "execution_count": 108,
   "metadata": {},
   "outputs": [],
   "source": [
    "test = pd.read_csv(\"datasets/test.csv.zip\", compression=\"zip\", header=0)\n",
    "test = scale(test)\n",
    "predictions = classifier.predict(test)"
   ]
  },
  {
   "cell_type": "code",
   "execution_count": 109,
   "metadata": {},
   "outputs": [],
   "source": [
    "submission = pd.DataFrame({\n",
    "    \"ImageId\": range(1, len(predictions) + 1),\n",
    "    \"Label\": predictions\n",
    "})\n",
    "submission.to_csv(\"datasets/submission.csv\", index=False)"
   ]
  }
 ],
 "metadata": {
  "interpreter": {
   "hash": "d06ee931ab140b5c25de85b8d5dd49f04a6c55425a1ce9a3c19ed9be6600fe63"
  },
  "kernelspec": {
   "display_name": "Python 3.9.4 64-bit",
   "language": "python",
   "name": "python3"
  },
  "language_info": {
   "codemirror_mode": {
    "name": "ipython",
    "version": 3
   },
   "file_extension": ".py",
   "mimetype": "text/x-python",
   "name": "python",
   "nbconvert_exporter": "python",
   "pygments_lexer": "ipython3",
   "version": "3.9.4"
  },
  "orig_nbformat": 4
 },
 "nbformat": 4,
 "nbformat_minor": 2
}
