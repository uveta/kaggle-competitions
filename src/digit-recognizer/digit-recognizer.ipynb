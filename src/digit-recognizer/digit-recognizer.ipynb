{
 "cells": [
  {
   "cell_type": "code",
   "execution_count": 20,
   "metadata": {},
   "outputs": [],
   "source": [
    "import pandas as pd\n",
    "from sklearn.model_selection import train_test_split\n",
    "from sklearn.preprocessing import scale\n",
    "from sklearn.svm import SVC\n",
    "from sklearn.ensemble import RandomForestClassifier\n",
    "from sklearn.metrics import accuracy_score, precision_score, recall_score"
   ]
  },
  {
   "cell_type": "code",
   "execution_count": 21,
   "metadata": {},
   "outputs": [],
   "source": [
    "train_csv = pd.read_csv(\"datasets/train.csv.zip\", compression=\"zip\", header=0)"
   ]
  },
  {
   "cell_type": "code",
   "execution_count": 26,
   "metadata": {},
   "outputs": [
    {
     "name": "stdout",
     "output_type": "stream",
     "text": [
      "accuracy_score :  0.84\n",
      "accuracy_count :  168  of  200\n"
     ]
    }
   ],
   "source": [
    "train = train_csv[0:1000]\n",
    "y = train[\"label\"]\n",
    "train = train.drop(\"label\", axis=\"columns\")\n",
    "X_train, X_test, y_train, y_test = train_test_split(train, y, test_size=0.2)\n",
    "X_train = scale(X_train)\n",
    "X_test = scale(X_test)\n",
    "classifier = SVC()\n",
    "classifier.fit(X_train, y_train)\n",
    "y_pred = classifier.predict(X_test)\n",
    "\n",
    "acc = accuracy_score(y_test, y_pred)\n",
    "# prec = precision_score(y_test, y_pred, average=None)\n",
    "# recall = recall_score(y_test, y_pred, average=None)\n",
    "num_acc = accuracy_score(y_test, y_pred, normalize=False)\n",
    "\n",
    "print(\"accuracy_score : \", acc)\n",
    "# print(\"precision_score : \", prec)\n",
    "# print(\"recall_score : \", recall)\n",
    "print(\"accuracy_count : \", num_acc, \" of \", len(y_test))\n",
    "# take first 10000 samples from train.csv\n",
    "# train_test_split\n",
    "# sklearn.preprocess.scale train and test features\n",
    "# sklearn.svm.SVC\n",
    "# sklearn.svm.SVC(C=7, gamma=0.009)?\n",
    "# GridSearch\n",
    "# RandomForestClassifier\n"
   ]
  },
  {
   "cell_type": "code",
   "execution_count": 27,
   "metadata": {},
   "outputs": [],
   "source": [
    "test = pd.read_csv(\"datasets/test.csv.zip\", compression=\"zip\", header=0)\n",
    "predictions = classifier.predict(test)"
   ]
  },
  {
   "cell_type": "code",
   "execution_count": 29,
   "metadata": {},
   "outputs": [],
   "source": [
    "submission = pd.DataFrame({\n",
    "    \"ImageId\": pd.interval_range(1, len(predictions)),\n",
    "    \"Label\": predictions\n",
    "})\n",
    "# submission[\"ImageId\"] = submission.index\n",
    "# submission[\"Label\"] = predictions\n",
    "submission.to_csv(\"datasets/submission.csv\", index_label=\"ImageId\")"
   ]
  }
 ],
 "metadata": {
  "interpreter": {
   "hash": "d06ee931ab140b5c25de85b8d5dd49f04a6c55425a1ce9a3c19ed9be6600fe63"
  },
  "kernelspec": {
   "display_name": "Python 3.9.4 64-bit",
   "language": "python",
   "name": "python3"
  },
  "language_info": {
   "codemirror_mode": {
    "name": "ipython",
    "version": 3
   },
   "file_extension": ".py",
   "mimetype": "text/x-python",
   "name": "python",
   "nbconvert_exporter": "python",
   "pygments_lexer": "ipython3",
   "version": "3.9.4"
  },
  "orig_nbformat": 4
 },
 "nbformat": 4,
 "nbformat_minor": 2
}
