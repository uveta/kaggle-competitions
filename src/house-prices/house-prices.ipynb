{
 "cells": [
  {
   "cell_type": "code",
   "execution_count": 106,
   "metadata": {},
   "outputs": [],
   "source": [
    "import pandas as pd\n",
    "import numpy as np\n",
    "from sklearn.metrics import mean_squared_error\n",
    "from sklearn.base import BaseEstimator\n",
    "from sklearn.model_selection import train_test_split\n",
    "from scipy.stats import skew\n"
   ]
  },
  {
   "cell_type": "code",
   "execution_count": 107,
   "metadata": {},
   "outputs": [],
   "source": [
    "def prepare_data(\n",
    "    train: pd.DataFrame, test: pd.DataFrame\n",
    ") -> tuple[pd.DataFrame, pd.DataFrame, pd.Series]:\n",
    "    data = pd.concat((train.iloc[:, 1:-1], test.iloc[:, 1:]))\n",
    "    numeric_feats = data.dtypes[data.dtypes != \"object\"].index\n",
    "    skewed_feats = data[numeric_feats].apply(\n",
    "        lambda x: skew(x.dropna())\n",
    "    )  # compute skewness\n",
    "    skewed_feats = skewed_feats[skewed_feats > 0.75]\n",
    "    skewed_feats = skewed_feats.index\n",
    "    data[skewed_feats] = np.log1p(data[skewed_feats])\n",
    "    data.fillna(data.mean(), inplace=True, axis=\"rows\")\n",
    "    data = pd.get_dummies(data)\n",
    "    y = np.log1p(train[\"SalePrice\"])\n",
    "    train = data[: train.shape[0]]\n",
    "    test = data[train.shape[0] :]\n",
    "    return train, test, y\n",
    "\n",
    "from sklearn.utils._testing import ignore_warnings\n",
    "from sklearn.exceptions import ConvergenceWarning\n",
    "\n",
    "@ignore_warnings(category=ConvergenceWarning)\n",
    "def evaluate(\n",
    "    model: BaseEstimator, name: str, X: pd.DataFrame, y: pd.DataFrame, reps: int = 100\n",
    ") -> float:\n",
    "    rmse_sum = 0\n",
    "    for i in range(reps):\n",
    "        X_train, X_test, y_train, y_test = train_test_split(X, y, test_size=0.2)\n",
    "        model.fit(X_train, y_train)\n",
    "        y_pred = model.predict(X_test)\n",
    "        rmse = np.sqrt(mean_squared_error(y_test, y_pred))\n",
    "        rmse_sum += rmse\n",
    "    rmse_avg = rmse_sum / reps\n",
    "    print(\n",
    "        name,\n",
    "        \"\\trmse=\",\n",
    "        \"{:.3f}%\".format(rmse_avg * 100),\n",
    "        \" alpha=\",\n",
    "        model.alpha_ if hasattr(model, \"alpha_\") else \"null\",\n",
    "    )\n",
    "    return rmse_avg\n"
   ]
  },
  {
   "cell_type": "code",
   "execution_count": 108,
   "metadata": {},
   "outputs": [],
   "source": [
    "train = pd.read_csv(\"datasets/train.csv\")\n",
    "test = pd.read_csv('datasets/test.csv')\n",
    "(X_train, X_test, y_train) = prepare_data(train, test)"
   ]
  },
  {
   "cell_type": "code",
   "execution_count": 109,
   "metadata": {},
   "outputs": [
    {
     "name": "stdout",
     "output_type": "stream",
     "text": [
      "Ridge a=10 \trmse= 13.128%  alpha= null\n",
      "LassoLars a=0.000258 \trmse= 12.927%  alpha= null\n"
     ]
    }
   ],
   "source": [
    "from sklearn.linear_model import (\n",
    "    Ridge,\n",
    "    RidgeCV,\n",
    "    ElasticNet,\n",
    "    ElasticNetCV,\n",
    "    LassoCV,\n",
    "    LassoLars,\n",
    "    LassoLarsCV,\n",
    "    Lasso,\n",
    ")\n",
    "\n",
    "models = [\n",
    "    (Ridge(alpha=10), \"Ridge a=10\"),\n",
    "    (LassoLars(alpha=0.000258), \"LassoLars a=0.000258\")\n",
    "]\n",
    "rmse_min = 1\n",
    "for (model, name) in models:\n",
    "    rmse = evaluate(model, name, X_train, y_train)\n",
    "    if rmse < rmse_min:\n",
    "        rmse_min = rmse\n",
    "        best_model = model\n",
    "best_model.fit(X_train, y_train)\n",
    "y_test = best_model.predict(X_test)\n"
   ]
  },
  {
   "cell_type": "code",
   "execution_count": 110,
   "metadata": {},
   "outputs": [],
   "source": [
    "y_test = np.expm1(y_test)\n",
    "submission = pd.DataFrame({\"Id\": test[\"Id\"], \"SalePrice\": y_test})\n",
    "submission.to_csv(\"datasets/submission.csv\", index=False)\n"
   ]
  }
 ],
 "metadata": {
  "interpreter": {
   "hash": "d06ee931ab140b5c25de85b8d5dd49f04a6c55425a1ce9a3c19ed9be6600fe63"
  },
  "kernelspec": {
   "display_name": "Python 3.9.4 64-bit",
   "language": "python",
   "name": "python3"
  },
  "language_info": {
   "codemirror_mode": {
    "name": "ipython",
    "version": 3
   },
   "file_extension": ".py",
   "mimetype": "text/x-python",
   "name": "python",
   "nbconvert_exporter": "python",
   "pygments_lexer": "ipython3",
   "version": "3.9.4"
  },
  "orig_nbformat": 4
 },
 "nbformat": 4,
 "nbformat_minor": 2
}
