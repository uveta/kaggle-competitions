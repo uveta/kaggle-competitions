{
 "cells": [
  {
   "cell_type": "code",
   "execution_count": 222,
   "metadata": {},
   "outputs": [],
   "source": [
    "import pandas as pd\n",
    "import numpy as np\n",
    "from sklearn.linear_model import Ridge, RidgeCV, ElasticNet, LassoCV, LassoLarsCV, Lasso\n",
    "from scipy.stats import skew\n"
   ]
  },
  {
   "cell_type": "code",
   "execution_count": 223,
   "metadata": {},
   "outputs": [],
   "source": [
    "def prepare_data(\n",
    "    train: pd.DataFrame, test: pd.DataFrame\n",
    ") -> tuple[pd.DataFrame, pd.DataFrame, pd.Series]:\n",
    "    data = pd.concat((train.iloc[:, 1:-1], test.iloc[:, 1:]))\n",
    "    numeric_feats = data.dtypes[data.dtypes != \"object\"].index\n",
    "    skewed_feats = data[numeric_feats].apply(lambda x: skew(x.dropna())) #compute skewness\n",
    "    skewed_feats = skewed_feats[skewed_feats > 0.75]\n",
    "    skewed_feats = skewed_feats.index\n",
    "    data[skewed_feats] = np.log1p(data[skewed_feats])\n",
    "    data.fillna(data.mean(), inplace=True, axis=\"rows\")\n",
    "    data = pd.get_dummies(data)\n",
    "    y = np.log1p(train[\"SalePrice\"])\n",
    "    train = data[:train.shape[0]]\n",
    "    test = data[train.shape[0]:]\n",
    "    return train, test, y\n"
   ]
  },
  {
   "cell_type": "code",
   "execution_count": 224,
   "metadata": {},
   "outputs": [],
   "source": [
    "train = pd.read_csv(\"datasets/train.csv\")\n",
    "test = pd.read_csv('datasets/test.csv')\n",
    "(X_train, X_test, y_train) = prepare_data(train, test)"
   ]
  },
  {
   "cell_type": "code",
   "execution_count": 225,
   "metadata": {},
   "outputs": [],
   "source": [
    "model = Ridge(alpha=10)\n",
    "model.fit(X_train, y_train)\n",
    "y_test = model.predict(X_test)"
   ]
  },
  {
   "cell_type": "code",
   "execution_count": 226,
   "metadata": {},
   "outputs": [],
   "source": [
    "y_test = np.expm1(y_test)\n",
    "submission = pd.DataFrame({\"Id\": test[\"Id\"], \"SalePrice\": y_test})\n",
    "submission.to_csv(\"datasets/submission.csv\", index=False)\n"
   ]
  }
 ],
 "metadata": {
  "interpreter": {
   "hash": "d06ee931ab140b5c25de85b8d5dd49f04a6c55425a1ce9a3c19ed9be6600fe63"
  },
  "kernelspec": {
   "display_name": "Python 3.9.4 64-bit",
   "language": "python",
   "name": "python3"
  },
  "language_info": {
   "codemirror_mode": {
    "name": "ipython",
    "version": 3
   },
   "file_extension": ".py",
   "mimetype": "text/x-python",
   "name": "python",
   "nbconvert_exporter": "python",
   "pygments_lexer": "ipython3",
   "version": "3.9.4"
  },
  "orig_nbformat": 4
 },
 "nbformat": 4,
 "nbformat_minor": 2
}
