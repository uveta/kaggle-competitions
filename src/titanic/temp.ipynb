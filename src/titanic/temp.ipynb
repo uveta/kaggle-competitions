{
 "cells": [
  {
   "cell_type": "code",
   "execution_count": 59,
   "metadata": {},
   "outputs": [
    {
     "name": "stdout",
     "output_type": "stream",
     "text": [
      "Empty DataFrame\n",
      "Columns: [Name, Title, Fare]\n",
      "Index: []\n",
      "count     891\n",
      "unique      3\n",
      "top         M\n",
      "freq      517\n",
      "Name: Title, dtype: object\n"
     ]
    }
   ],
   "source": [
    "import pandas as pd\n",
    "import numpy as np\n",
    "\n",
    "train_df = pd.read_csv(\"datasets/train.csv\")\n",
    "# print(train_df.head(10))\n",
    "# print(train_df.describe())\n",
    "# print(\"---\"*10)\n",
    "male = [\"Mr.\"]\n",
    "female = [\"Mrs.\", \"Miss.\", \"Ms.\"]\n",
    "rare = [\"Master.\", \"Col.\", \"Major.\", \"Rev.\", \"Capt.\", \"Dr.\", \"Sir.\",\n",
    "        \"Lady.\", \"Mlle.\", \"Mme.\", \"Countess.\", \"Dona.\", \"Don.\", \"Jonkheer.\"]\n",
    "train_df[\"Title\"] = train_df[\"Name\"].map(\n",
    "    lambda name:\n",
    "        \"M\" if any(x in name for x in male) else\n",
    "        \"F\" if any(x in name for x in female) else\n",
    "        \"R\" if any(x in name for x in rare) else\n",
    "        np.nan)\n",
    "print(train_df[[\"Name\", \"Title\", \"Fare\"]][train_df[\"Title\"].isna()].head())\n",
    "print(train_df[\"Title\"].describe())\n"
   ]
  }
 ],
 "metadata": {
  "interpreter": {
   "hash": "d06ee931ab140b5c25de85b8d5dd49f04a6c55425a1ce9a3c19ed9be6600fe63"
  },
  "kernelspec": {
   "display_name": "Python 3.9.4 64-bit",
   "language": "python",
   "name": "python3"
  },
  "language_info": {
   "codemirror_mode": {
    "name": "ipython",
    "version": 3
   },
   "file_extension": ".py",
   "mimetype": "text/x-python",
   "name": "python",
   "nbconvert_exporter": "python",
   "pygments_lexer": "ipython3",
   "version": "3.9.4"
  },
  "orig_nbformat": 4
 },
 "nbformat": 4,
 "nbformat_minor": 2
}
